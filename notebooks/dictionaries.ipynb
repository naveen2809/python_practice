{
 "cells": [
  {
   "cell_type": "code",
   "execution_count": 5,
   "metadata": {},
   "outputs": [
    {
     "name": "stdout",
     "output_type": "stream",
     "text": [
      "{'first': 1, 'second': 2}\n"
     ]
    }
   ],
   "source": [
    "#Simple Dictionary\n",
    "mydict = {\"first\":1,\"second\":2}\n",
    "print(mydict)"
   ]
  },
  {
   "cell_type": "code",
   "execution_count": 6,
   "metadata": {},
   "outputs": [
    {
     "name": "stdout",
     "output_type": "stream",
     "text": [
      "{'first': 1, 'second': 2, 'third': 3}\n"
     ]
    }
   ],
   "source": [
    "#Simple Dictionary with Formatting\n",
    "mydict = {\n",
    "            \"first\":1,\n",
    "            \"second\":2,\n",
    "            \"third\":3\n",
    "        }\n",
    "\n",
    "print(mydict)"
   ]
  },
  {
   "cell_type": "code",
   "execution_count": 8,
   "metadata": {},
   "outputs": [
    {
     "name": "stdout",
     "output_type": "stream",
     "text": [
      "The keys of the dictionary {'first': 1, 'second': 2, 'third': 3} are dict_keys(['first', 'second', 'third'])\n"
     ]
    }
   ],
   "source": [
    "#Dictionary Keys\n",
    "mydict = {\n",
    "            \"first\":1,\n",
    "            \"second\":2,\n",
    "            \"third\":3\n",
    "        }\n",
    "\n",
    "print(f\"The keys of the dictionary {mydict} are {mydict.keys()}\")"
   ]
  },
  {
   "cell_type": "code",
   "execution_count": 11,
   "metadata": {},
   "outputs": [
    {
     "name": "stdout",
     "output_type": "stream",
     "text": [
      "first\n",
      "second\n",
      "third\n",
      "The keys of the dictionary {'first': 1, 'second': 2, 'third': 3} are dict_keys(['first', 'second', 'third'])\n",
      "dict_keys(['first', 'second', 'third'])\n"
     ]
    }
   ],
   "source": [
    "#Dictionary Keys\n",
    "mydict = {\n",
    "            \"first\":1,\n",
    "            \"second\":2,\n",
    "            \"third\":3\n",
    "        }\n",
    "\n",
    "mykeys = mydict.keys()\n",
    "\n",
    "for i in mykeys:\n",
    "    print(i)\n",
    "\n",
    "\n",
    "print(f\"The keys of the dictionary {mydict} are {mykeys}\")\n",
    "\n",
    "print(mykeys)\n"
   ]
  },
  {
   "cell_type": "code",
   "execution_count": 13,
   "metadata": {},
   "outputs": [
    {
     "name": "stdout",
     "output_type": "stream",
     "text": [
      "dict_values([1, 2, 3])\n",
      "1\n",
      "2\n",
      "3\n"
     ]
    }
   ],
   "source": [
    "#Dictionary Values\n",
    "mydict = {\n",
    "            \"first\":1,\n",
    "            \"second\":2,\n",
    "            \"third\":3\n",
    "        }\n",
    "\n",
    "myvalues = mydict.values()\n",
    "\n",
    "print(myvalues)\n",
    "\n",
    "for i in myvalues:\n",
    "    print(i)\n"
   ]
  },
  {
   "cell_type": "code",
   "execution_count": 16,
   "metadata": {},
   "outputs": [
    {
     "name": "stdout",
     "output_type": "stream",
     "text": [
      "dict_items([('first', 1), ('second', 2), ('third', 3)])\n",
      "('first', 1)\n",
      "('second', 2)\n",
      "('third', 3)\n",
      "The items in the dictionary {'first': 1, 'second': 2, 'third': 3} are dict_items([('first', 1), ('second', 2), ('third', 3)])\n"
     ]
    }
   ],
   "source": [
    "#Dictionary Items\n",
    "mydict = {\n",
    "            \"first\":1,\n",
    "            \"second\":2,\n",
    "            \"third\":3\n",
    "        }\n",
    "\n",
    "myitems = mydict.items()\n",
    "\n",
    "print(myitems)\n",
    "\n",
    "for i in myitems:\n",
    "    print(i)\n",
    "\n",
    "print(f\"The items in the dictionary {mydict} are {mydict.items()}\")"
   ]
  },
  {
   "cell_type": "code",
   "execution_count": 17,
   "metadata": {},
   "outputs": [
    {
     "name": "stdout",
     "output_type": "stream",
     "text": [
      "The original dictionary is {'first': 1, 'second': 2, 'third': 3}\n",
      "The dictionary after clearing is {}\n"
     ]
    }
   ],
   "source": [
    "#Clearing the Dictionary\n",
    "mydict = {\n",
    "            \"first\":1,\n",
    "            \"second\":2,\n",
    "            \"third\":3\n",
    "        }\n",
    "\n",
    "print(f\"The original dictionary is {mydict}\")\n",
    "\n",
    "mydict.clear()\n",
    "\n",
    "print(f\"The dictionary after clearing is {mydict}\")"
   ]
  },
  {
   "cell_type": "code",
   "execution_count": 21,
   "metadata": {},
   "outputs": [
    {
     "name": "stdout",
     "output_type": "stream",
     "text": [
      "1\n",
      "2\n",
      "3\n"
     ]
    }
   ],
   "source": [
    "#Accessing Dictionary Items Using Keys\n",
    "mydict = {\n",
    "            \"first\":1,\n",
    "            \"second\":2,\n",
    "            \"third\":3\n",
    "        }\n",
    "\n",
    "print(f\"{mydict['first']}\")\n",
    "print(f\"{mydict['second']}\")\n",
    "print(f\"{mydict['third']}\")\n"
   ]
  },
  {
   "cell_type": "code",
   "execution_count": 22,
   "metadata": {},
   "outputs": [
    {
     "name": "stdout",
     "output_type": "stream",
     "text": [
      "1\n",
      "2\n",
      "3\n"
     ]
    }
   ],
   "source": [
    "#Accessing Dictionary Items Using Keys\n",
    "mydict = {\n",
    "            \"first\":1,\n",
    "            \"second\":2,\n",
    "            \"third\":3\n",
    "        }\n",
    "\n",
    "mykeys = mydict.keys()\n",
    "\n",
    "for key in mykeys:\n",
    "    print(f\"{mydict[key]}\")\n"
   ]
  },
  {
   "cell_type": "code",
   "execution_count": 23,
   "metadata": {},
   "outputs": [
    {
     "name": "stdout",
     "output_type": "stream",
     "text": [
      "Original Dictionary is {'first': 1, 'second': 2, 'third': 3}\n",
      "Dictionary after adding item is {'first': 1, 'second': 2, 'third': 3, 'fourth': 4}\n"
     ]
    }
   ],
   "source": [
    "#Adding Items to the Dictionary\n",
    "mydict = {\n",
    "            \"first\":1,\n",
    "            \"second\":2,\n",
    "            \"third\":3\n",
    "        }\n",
    "\n",
    "print(f\"Original Dictionary is {mydict}\")\n",
    "\n",
    "mydict[\"fourth\"] = 4\n",
    "\n",
    "print(f\"Dictionary after adding item is {mydict}\")"
   ]
  },
  {
   "cell_type": "code",
   "execution_count": 27,
   "metadata": {},
   "outputs": [
    {
     "name": "stdout",
     "output_type": "stream",
     "text": [
      "Original Dictionary is {'first': 1, 'second': 2, 'third': 3}\n",
      "The PoPed value is 3\n",
      "The Dictionary after PoPing and Entry is {'first': 1, 'second': 2}\n"
     ]
    }
   ],
   "source": [
    "#PoPing Items from a Dictionary Using Keys\n",
    "mydict = {\n",
    "            \"first\":1,\n",
    "            \"second\":2,\n",
    "            \"third\":3\n",
    "        }\n",
    "\n",
    "print(f\"Original Dictionary is {mydict}\")\n",
    "\n",
    "myvalue = mydict.pop('third')\n",
    "print(f\"The PoPed value is {myvalue}\")\n",
    "\n",
    "print(f\"The Dictionary after PoPing an Entry using Key is {mydict}\")"
   ]
  },
  {
   "cell_type": "code",
   "execution_count": 32,
   "metadata": {},
   "outputs": [
    {
     "name": "stdout",
     "output_type": "stream",
     "text": [
      "Original Dictionary is {'first': 1, 'second': 2, 'third': 3}\n",
      "The PoPed value is ('third', 3)\n",
      "The Dictionary after PoPing an Entry using Item is {'first': 1, 'second': 2}\n"
     ]
    }
   ],
   "source": [
    "#PoPing Items from a Dictionary\n",
    "mydict = {\n",
    "            \"first\":1,\n",
    "            \"second\":2,\n",
    "            \"third\":3\n",
    "        }\n",
    "\n",
    "print(f\"Original Dictionary is {mydict}\")\n",
    "\n",
    "myvalue = mydict.popitem()\n",
    "print(f\"The PoPed value is {myvalue}\")\n",
    "\n",
    "print(f\"The Dictionary after PoPing an Entry using Item is {mydict}\")\n",
    "\n"
   ]
  },
  {
   "cell_type": "code",
   "execution_count": 39,
   "metadata": {},
   "outputs": [
    {
     "name": "stdout",
     "output_type": "stream",
     "text": [
      "The number of items in the dictionary is 3\n"
     ]
    }
   ],
   "source": [
    "#Counting items in a Dictionary\n",
    "mydict = {\n",
    "            \"first\":1,\n",
    "            \"second\":2,\n",
    "            \"third\":3\n",
    "        }\n",
    "\n",
    "mycount = 0\n",
    "for i in mydict.keys():\n",
    "    mycount = mycount + 1\n",
    "\n",
    "print(f\"The number of items in the dictionary is {mycount}\")"
   ]
  },
  {
   "cell_type": "code",
   "execution_count": 45,
   "metadata": {},
   "outputs": [
    {
     "name": "stdout",
     "output_type": "stream",
     "text": [
      "The number of items in the dictionary is 3\n"
     ]
    }
   ],
   "source": [
    "#Counting items in a Dictionary\n",
    "mydict = {\n",
    "            \"first\":1,\n",
    "            \"second\":2,\n",
    "            \"third\":3\n",
    "        }\n",
    "\n",
    "mycount = len(mydict)\n",
    "\n",
    "print(f\"The number of items in the dictionary is {mycount}\")"
   ]
  },
  {
   "cell_type": "code",
   "execution_count": 46,
   "metadata": {},
   "outputs": [
    {
     "name": "stdout",
     "output_type": "stream",
     "text": [
      "Original Dictionary is {'first': 1, 'second': 2, 'third': 3}\n",
      "The number of items in the dictionary is 3\n",
      "The Dictionary after PoPing all the Entries is {}\n"
     ]
    }
   ],
   "source": [
    "#PoPing all the items in a Dictionary\n",
    "mydict = {\n",
    "            \"first\":1,\n",
    "            \"second\":2,\n",
    "            \"third\":3\n",
    "        }\n",
    "\n",
    "mycount = 0\n",
    "for i in mydict.keys():\n",
    "    mycount = mycount + 1\n",
    "\n",
    "print(f\"Original Dictionary is {mydict}\")\n",
    "\n",
    "print(f\"The number of items in the dictionary is {mycount}\")\n",
    "\n",
    "for i in range(mycount):\n",
    "    mydict.popitem()\n",
    "\n",
    "print(f\"The Dictionary after PoPing all the Entries is {mydict}\")\n"
   ]
  },
  {
   "cell_type": "code",
   "execution_count": 47,
   "metadata": {},
   "outputs": [
    {
     "name": "stdout",
     "output_type": "stream",
     "text": [
      "Original Dictionary is {'first': 1, 'second': 2, 'third': 3}\n",
      "The number of items in the dictionary is 3\n",
      "The Dictionary after PoPing all the Entries is {}\n"
     ]
    }
   ],
   "source": [
    "#PoPing all the items in a Dictionary\n",
    "mydict = {\n",
    "            \"first\":1,\n",
    "            \"second\":2,\n",
    "            \"third\":3\n",
    "        }\n",
    "\n",
    "mykeyslen = len(mydict.keys())\n",
    "\n",
    "print(f\"Original Dictionary is {mydict}\")\n",
    "\n",
    "print(f\"The number of items in the dictionary is {mykeyslen}\")\n",
    "\n",
    "for i in range(mykeyslen):\n",
    "    mydict.popitem()\n",
    "\n",
    "print(f\"The Dictionary after PoPing all the Entries is {mydict}\")"
   ]
  },
  {
   "cell_type": "code",
   "execution_count": 49,
   "metadata": {},
   "outputs": [
    {
     "name": "stdout",
     "output_type": "stream",
     "text": [
      "Original and Copied Dictionaries Before PoP:\n",
      "mydict: {'first': 1, 'second': 2, 'third': 3}\n",
      "mydict1: {'first': 1, 'second': 2, 'third': 3}\n",
      "mydict2: {'first': 1, 'second': 2, 'third': 3}\n",
      "Original and Copied Dictionaries After PoP:\n",
      "mydict: {'first': 1, 'second': 2}\n",
      "mydict1: {'first': 1, 'second': 2}\n",
      "mydict2: {'first': 1, 'second': 2, 'third': 3}\n"
     ]
    }
   ],
   "source": [
    "#Copying a Dictionary\n",
    "mydict = {\n",
    "            \"first\":1,\n",
    "            \"second\":2,\n",
    "            \"third\":3\n",
    "        }\n",
    "\n",
    "mydict1 = mydict\n",
    "mydict2 = mydict.copy()\n",
    "\n",
    "print(f\"Original and Copied Dictionaries Before PoP:\")\n",
    "print(f\"mydict: {mydict}\")\n",
    "print(f\"mydict1: {mydict1}\")\n",
    "print(f\"mydict2: {mydict2}\")\n",
    "\n",
    "mydict.popitem()\n",
    "\n",
    "print(f\"Original and Copied Dictionaries After PoP:\")\n",
    "print(f\"mydict: {mydict}\")\n",
    "print(f\"mydict1: {mydict1}\")\n",
    "print(f\"mydict2: {mydict2}\")\n"
   ]
  }
 ],
 "metadata": {
  "kernelspec": {
   "display_name": "Python 3",
   "language": "python",
   "name": "python3"
  },
  "language_info": {
   "codemirror_mode": {
    "name": "ipython",
    "version": 3
   },
   "file_extension": ".py",
   "mimetype": "text/x-python",
   "name": "python",
   "nbconvert_exporter": "python",
   "pygments_lexer": "ipython3",
   "version": "3.8.10"
  },
  "orig_nbformat": 4
 },
 "nbformat": 4,
 "nbformat_minor": 2
}
