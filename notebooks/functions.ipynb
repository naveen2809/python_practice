{
 "cells": [
  {
   "cell_type": "code",
   "execution_count": 2,
   "metadata": {},
   "outputs": [
    {
     "name": "stdout",
     "output_type": "stream",
     "text": [
      "The tuple is (10, 100)\n",
      "First value of tuple is 9 and the second value is 81\n"
     ]
    }
   ],
   "source": [
    "#Functions\n",
    "\n",
    "def make_square(mynum):\n",
    "    return (mynum, mynum**2)\n",
    "\n",
    "t = make_square(10)\n",
    "print(f'The tuple is {t}')\n",
    "\n",
    "t1,t2 = make_square(9)\n",
    "print(f'First value of tuple is {t1} and the second value is {t2}')\n",
    "\n"
   ]
  },
  {
   "cell_type": "code",
   "execution_count": 3,
   "metadata": {},
   "outputs": [
    {
     "name": "stdout",
     "output_type": "stream",
     "text": [
      "The random value is 4\n",
      "*\n",
      "**\n",
      "***\n",
      "****\n"
     ]
    }
   ],
   "source": [
    "#Random function\n",
    "from random import randint\n",
    "\n",
    "\n",
    "def print_stars(num):\n",
    "    i=1\n",
    "    while i <= num:\n",
    "        j=1\n",
    "        while j <= i:\n",
    "            print(\"*\",end=\"\")\n",
    "            j += 1\n",
    "        print()\n",
    "        i += 1\n",
    "\n",
    "rand_val = randint(1,10)\n",
    "print(f\"The random value is {rand_val}\")\n",
    "print_stars(rand_val)"
   ]
  },
  {
   "cell_type": "code",
   "execution_count": null,
   "metadata": {},
   "outputs": [
    {
     "name": "stdout",
     "output_type": "stream",
     "text": [
      "Before calling shuffle: The original list is [1, 2, 3, 4, 5, 6, 7, 8, 9, 10]\n",
      "After calling shuffle: The original list is [1, 2, 3, 4, 5, 6, 7, 8, 9, 10]\n",
      "The shuffled list is [2, 6, 8, 3, 1, 5, 10, 9, 4, 7]\n"
     ]
    }
   ],
   "source": [
    "#Function to shuffle a list\n",
    "\n",
    "from random import shuffle\n",
    "\n",
    "def shuffe_list(input_list):\n",
    "    new_list = input_list.copy()\n",
    "    shuffle(new_list)\n",
    "    return new_list\n",
    "\n",
    "mylist = [x for x in range(1,11)]\n",
    "print(f\"Before calling shuffle: The original list is {mylist}\")\n",
    "\n",
    "shuffled_list_1 = shuffe_list(mylist)\n",
    "shuffled_list_2 = shuffe_list(mylist)\n",
    "print(f\"After calling shuffle: The original list is {mylist}\")\n",
    "print(f\"The first shuffled list is {shuffled_list_1}\")\n",
    "print(f\"The second shuffled list is {shuffled_list_2}\")"
   ]
  },
  {
   "cell_type": "code",
   "execution_count": 14,
   "metadata": {},
   "outputs": [
    {
     "name": "stdout",
     "output_type": "stream",
     "text": [
      "Wrong Guess!\n",
      "['O', ' ', ' ']\n"
     ]
    }
   ],
   "source": [
    "#Function to shuffle a list\n",
    "\n",
    "from random import shuffle\n",
    "\n",
    "def shuffe_list(input_list):\n",
    "    new_list = input_list.copy()\n",
    "    shuffle(new_list)\n",
    "    return new_list\n",
    "\n",
    "def player_guess():\n",
    "    user_guess = ''\n",
    "    \n",
    "    while user_guess not in ['0','1','2']:\n",
    "        user_guess = input(\"Choose either 0, 1 or 2: \")\n",
    "    \n",
    "    return int(user_guess)\n",
    "\n",
    "def check_guess(ref_list,index):\n",
    "    if ref_list[index] == 'O':\n",
    "        print(\"Correct Guess!\")\n",
    "    else:\n",
    "        print(\"Wrong Guess!\")\n",
    "\n",
    "    print(shuffled_list)\n",
    "\n",
    "\n",
    "mylist = [' ','O',' ']\n",
    "shuffled_list = shuffe_list(mylist)\n",
    "guess = player_guess()\n",
    "check_guess(shuffled_list,guess)\n"
   ]
  },
  {
   "cell_type": "code",
   "execution_count": 16,
   "metadata": {},
   "outputs": [
    {
     "name": "stdout",
     "output_type": "stream",
     "text": [
      "(1,)\n",
      "1\n",
      "(1, 2)\n",
      "1\n",
      "2\n",
      "([1, 2],)\n",
      "[1, 2]\n",
      "()\n"
     ]
    }
   ],
   "source": [
    "# *args feature\n",
    "# Variable number of arguments as a tuple\n",
    "\n",
    "def print_args(*args):\n",
    "    print(args)\n",
    "    for i in args:\n",
    "        print(i)\n",
    "\n",
    "\n",
    "print_args(1)\n",
    "print_args(1,2)\n",
    "print_args([1,2])\n",
    "print_args()"
   ]
  },
  {
   "cell_type": "code",
   "execution_count": 17,
   "metadata": {},
   "outputs": [
    {
     "name": "stdout",
     "output_type": "stream",
     "text": [
      "{'name': 'Naveen', 'age': 42, 'sex': 'male'}\n",
      "Naveen\n",
      "42\n",
      "male\n"
     ]
    }
   ],
   "source": [
    "# **kwargs \n",
    "# Variable number of arguments as a dictionary\n",
    "\n",
    "def print_args(**kwargs):\n",
    "    print(kwargs)\n",
    "    for key in kwargs:\n",
    "        print(kwargs[key])\n",
    "\n",
    "\n",
    "print_args(name=\"Naveen\",age=42,sex=\"male\")\n",
    "\n"
   ]
  },
  {
   "cell_type": "code",
   "execution_count": 18,
   "metadata": {},
   "outputs": [
    {
     "name": "stdout",
     "output_type": "stream",
     "text": [
      "(10, 20, 30)\n",
      "{'name': 'Naveen', 'age': 42, 'sex': 'male'}\n",
      "10\n",
      "20\n",
      "30\n",
      "Naveen\n",
      "42\n",
      "male\n"
     ]
    }
   ],
   "source": [
    "#Combining *args and **kwargs\n",
    "\n",
    "def print_args(*args,**kwargs):\n",
    "    print(args)\n",
    "    print(kwargs)\n",
    "\n",
    "    for item in args:\n",
    "        print(item)\n",
    "\n",
    "    for key in kwargs:\n",
    "        print(kwargs[key])\n",
    "\n",
    "print_args(10,20,30,name=\"Naveen\",age=42,sex=\"male\")\n",
    "\n"
   ]
  },
  {
   "cell_type": "code",
   "execution_count": 20,
   "metadata": {},
   "outputs": [
    {
     "name": "stdout",
     "output_type": "stream",
     "text": [
      "(10, 20)\n",
      "30\n",
      "(10, 20, 30)\n",
      "60\n"
     ]
    }
   ],
   "source": [
    "# Sum of numbers using *args\n",
    "\n",
    "def list_sum(*args):\n",
    "    print(args)\n",
    "    return sum(args)\n",
    "\n",
    "total = list_sum(10,20)\n",
    "print(total)\n",
    "\n",
    "total = list_sum(10,20,30)\n",
    "print(total)\n",
    "\n"
   ]
  },
  {
   "cell_type": "code",
   "execution_count": 22,
   "metadata": {},
   "outputs": [
    {
     "name": "stdout",
     "output_type": "stream",
     "text": [
      "Even List: [2, 4, 6, 8, 10]\n"
     ]
    }
   ],
   "source": [
    "# Function that takes in an arbitrary number of arguments, and returns a list containing only those arguments that are even.\n",
    "\n",
    "def return_even(*args):\n",
    "    mylist = [item for item in args if item%2 == 0]\n",
    "    return mylist\n",
    "\n",
    "\n",
    "even_list = return_even(1,2,3,4,5,6,7,8,9,10)\n",
    "\n",
    "print(f\"Even List: {even_list}\")"
   ]
  },
  {
   "cell_type": "code",
   "execution_count": 25,
   "metadata": {},
   "outputs": [
    {
     "name": "stdout",
     "output_type": "stream",
     "text": [
      "aNtHrOpOmOrPhIsM\n"
     ]
    }
   ],
   "source": [
    "# Function that takes in a string, and returns a matching string where every even letter is uppercase, and every odd letter is lowercase. \n",
    "# Assume that the incoming string only contains letters, and don't worry about numbers, spaces or punctuation\n",
    "\n",
    "def format_string(mystr):\n",
    "    newstr = ''\n",
    "    for count,letter in enumerate(mystr):\n",
    "        if (count+1)%2 == 0:\n",
    "            newstr += letter.upper()\n",
    "        else:\n",
    "            newstr += letter.lower()\n",
    "\n",
    "    return newstr\n",
    "\n",
    "\n",
    "formatted_str = format_string('Anthropomorphism')\n",
    "print(formatted_str)\n"
   ]
  }
 ],
 "metadata": {
  "kernelspec": {
   "display_name": "Python 3",
   "language": "python",
   "name": "python3"
  },
  "language_info": {
   "codemirror_mode": {
    "name": "ipython",
    "version": 3
   },
   "file_extension": ".py",
   "mimetype": "text/x-python",
   "name": "python",
   "nbconvert_exporter": "python",
   "pygments_lexer": "ipython3",
   "version": "3.8.10"
  },
  "orig_nbformat": 4
 },
 "nbformat": 4,
 "nbformat_minor": 2
}
