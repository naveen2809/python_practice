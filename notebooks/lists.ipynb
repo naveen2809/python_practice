{
 "cells": [
  {
   "cell_type": "code",
   "execution_count": 10,
   "metadata": {},
   "outputs": [
    {
     "data": {
      "text/plain": [
       "[1, 2, 3, [4, 5, 6]]"
      ]
     },
     "execution_count": 10,
     "metadata": {},
     "output_type": "execute_result"
    }
   ],
   "source": [
    "#Appending an element into a list\n",
    "mylist1 = [1,2,3]\n",
    "mylist2 = [4,5,6]\n",
    "mylist1.append(mylist2)\n",
    "mylist1"
   ]
  },
  {
   "cell_type": "code",
   "execution_count": 11,
   "metadata": {},
   "outputs": [
    {
     "data": {
      "text/plain": [
       "[1, 2, 3, 4, 5, 6]"
      ]
     },
     "execution_count": 11,
     "metadata": {},
     "output_type": "execute_result"
    }
   ],
   "source": [
    "#Extending a list with another list. Notice the difference with Append\n",
    "mylist1 = [1,2,3]\n",
    "mylist2 = [4,5,6]\n",
    "mylist1.extend(mylist2)\n",
    "mylist1"
   ]
  },
  {
   "cell_type": "code",
   "execution_count": 12,
   "metadata": {},
   "outputs": [
    {
     "name": "stdout",
     "output_type": "stream",
     "text": [
      "[1, 2, 3]\n",
      "[4, 5, 6]\n",
      "[1, 2, 3, 4, 5, 6]\n"
     ]
    }
   ],
   "source": [
    "#Using the '+' operator with two lists\n",
    "mylist1 = [1,2,3]\n",
    "mylist2 = [4,5,6]\n",
    "mylist3 = mylist1 + mylist2\n",
    "print(mylist1)\n",
    "print(mylist2)\n",
    "print(mylist3)\n"
   ]
  },
  {
   "cell_type": "code",
   "execution_count": 13,
   "metadata": {},
   "outputs": [
    {
     "name": "stdout",
     "output_type": "stream",
     "text": [
      "My List Before PoP: [1, 2, 3]\n",
      "The PoPed Value is 3\n",
      "My List After PoP: [1, 2]\n"
     ]
    }
   ],
   "source": [
    "#PoPing an element off a list\n",
    "mylist1 = [1,2,3]\n",
    "print(f\"My List Before PoP: {mylist1}\")\n",
    "myval = mylist1.pop()\n",
    "print(f\"The PoPed Value is {myval}\")\n",
    "print(f\"My List After PoP: {mylist1}\")"
   ]
  },
  {
   "cell_type": "code",
   "execution_count": 14,
   "metadata": {},
   "outputs": [
    {
     "name": "stdout",
     "output_type": "stream",
     "text": [
      "The original list is [1, 2, 3, 4, 5]\n",
      "The list after clearing is []\n"
     ]
    }
   ],
   "source": [
    "#Clearing a list\n",
    "\n",
    "mylist = [1,2,3,4,5]\n",
    "print(f\"The original list is {mylist}\")\n",
    "\n",
    "mylist.clear()\n",
    "print(f\"The list after clearing is {mylist}\")\n"
   ]
  },
  {
   "cell_type": "code",
   "execution_count": 1,
   "metadata": {},
   "outputs": [
    {
     "name": "stdout",
     "output_type": "stream",
     "text": [
      "Initially the different lists are as below:\n",
      "List 1: [1, 2, 3, 4, 5]\n",
      "List 2: [1, 2, 3, 4, 5]\n",
      "List 3: [1, 2, 3, 4, 5]\n",
      "The different lists after removing element 3 from List 1:\n",
      "List 1: [1, 2, 4, 5]\n",
      "List 2: [1, 2, 4, 5]\n",
      "List 3: [1, 2, 3, 4, 5]\n",
      "Observe that List2 is only a Reference to List1 and not a separate copy. Hence any changes to List1 are also reflected in List2\n",
      "However, List3 is a different list\n"
     ]
    }
   ],
   "source": [
    "#Copying a list\n",
    "mylist1 = [1,2,3,4,5]\n",
    "\n",
    "mylist2 = mylist1\n",
    "\n",
    "mylist3 = mylist1.copy()\n",
    "\n",
    "print(\"Initially the different lists are as below:\")\n",
    "print(f\"List 1: {mylist1}\")\n",
    "print(f\"List 2: {mylist2}\")\n",
    "print(f\"List 3: {mylist3}\")\n",
    "\n",
    "mylist1.remove(3)\n",
    "\n",
    "print(\"The different lists after removing element 3 from List 1:\")\n",
    "print(f\"List 1: {mylist1}\")\n",
    "print(f\"List 2: {mylist2}\")\n",
    "print(f\"List 3: {mylist3}\")\n",
    "\n",
    "print(\"Observe that List2 is only a Reference to List1 and not a separate copy. Hence any changes to List1 are also reflected in List2\")\n",
    "print(\"However, List3 is a different list\")"
   ]
  },
  {
   "cell_type": "code",
   "execution_count": 2,
   "metadata": {},
   "outputs": [
    {
     "name": "stdout",
     "output_type": "stream",
     "text": [
      "The original list is [9, 3, 2, 4, 2, 5, 1, 2, 7, 2]\n",
      "The sorted list is [1, 2, 2, 2, 2, 3, 4, 5, 7, 9]\n"
     ]
    }
   ],
   "source": [
    "#Sort a list in place\n",
    "mylist1 = [9,3,2,4,2,5,1,2,7,2]\n",
    "print(f\"The original list is {mylist1}\")\n",
    "\n",
    "mylist1.sort()                                  #In place sorting\n",
    "print(f\"The sorted list is {mylist1}\")"
   ]
  },
  {
   "cell_type": "code",
   "execution_count": 3,
   "metadata": {},
   "outputs": [
    {
     "name": "stdout",
     "output_type": "stream",
     "text": [
      "The original list is [9, 3, 2, 4, 2, 5, 1, 2, 7, 2]\n",
      "The reverse list is [2, 7, 2, 1, 5, 2, 4, 2, 3, 9]\n"
     ]
    }
   ],
   "source": [
    "#Reversing a list in place\n",
    "mylist1 = [9,3,2,4,2,5,1,2,7,2]\n",
    "print(f\"The original list is {mylist1}\")\n",
    "\n",
    "mylist1.reverse()                               #In place reversing\n",
    "print(f\"The reverse list is {mylist1}\")"
   ]
  },
  {
   "cell_type": "code",
   "execution_count": 4,
   "metadata": {},
   "outputs": [
    {
     "name": "stdout",
     "output_type": "stream",
     "text": [
      "The number of ones in the list [1, 2, 3, 1, 1, 1] is 4\n"
     ]
    }
   ],
   "source": [
    "#Counting number of occurrences of an element in a list \n",
    "mylist = [1,2,3,1,1,1]\n",
    "\n",
    "count_of_ones = mylist.count(1)\n",
    "\n",
    "print(f\"The number of ones in the list {mylist} is {count_of_ones}\")"
   ]
  },
  {
   "cell_type": "code",
   "execution_count": 5,
   "metadata": {},
   "outputs": [
    {
     "name": "stdout",
     "output_type": "stream",
     "text": [
      "The index of the element 2 in the list [1, 2, 3, 1, 1, 1] is 1\n",
      "The index of the element 3 in the list [1, 2, 3, 1, 1, 1] is 2\n",
      "The index of the element 1 in the list [1, 2, 3, 1, 1, 1] is 0\n"
     ]
    }
   ],
   "source": [
    "#Finding the index of an element in a list\n",
    "mylist = [1,2,3,1,1,1]\n",
    "\n",
    "myindex=mylist.index(2)\n",
    "print(f\"The index of the element 2 in the list {mylist} is {myindex}\")\n",
    "\n",
    "myindex=mylist.index(3)\n",
    "print(f\"The index of the element 3 in the list {mylist} is {myindex}\")\n",
    "\n",
    "myindex=mylist.index(1)\n",
    "print(f\"The index of the element 1 in the list {mylist} is {myindex}\")\n"
   ]
  },
  {
   "cell_type": "code",
   "execution_count": 6,
   "metadata": {},
   "outputs": [
    {
     "name": "stdout",
     "output_type": "stream",
     "text": [
      "The original list is [1, 3, 5]\n",
      "The list after inserting first element is [0, 1, 3, 5]\n",
      "The list after inserting second element is [0, 1, 2, 3, 5]\n",
      "The list after inserting third element is [0, 1, 2, 3, 4, 5]\n",
      "The list after inserting fourth element is [0, 1, 2, 3, 4, 6, 5]\n",
      "The list after inserting fifth element is [0, 1, 2, 3, 4, 6, 5, 7]\n"
     ]
    }
   ],
   "source": [
    "#Code to insert elements into a list\n",
    "mylist1 = [1,3,5]\n",
    "print(f\"The original list is {mylist1}\")\n",
    "\n",
    "mylist1.insert(0,0)\n",
    "print(f\"The list after inserting first element is {mylist1}\")\n",
    "\n",
    "mylist1.insert(2,2)\n",
    "print(f\"The list after inserting second element is {mylist1}\")\n",
    "\n",
    "mylist1.insert(4,4)\n",
    "print(f\"The list after inserting third element is {mylist1}\")\n",
    "\n",
    "mylist1.insert(-1,6)\n",
    "print(f\"The list after inserting fourth element is {mylist1}\")\n",
    "\n",
    "mylist1.insert(7,7)\n",
    "print(f\"The list after inserting fifth element is {mylist1}\")"
   ]
  },
  {
   "cell_type": "code",
   "execution_count": 7,
   "metadata": {},
   "outputs": [
    {
     "name": "stdout",
     "output_type": "stream",
     "text": [
      "The original list is [9, 3, 2, 4, 2, 5, 1, 2, 7, 2]\n",
      "The list after removing 9 is [3, 2, 4, 2, 5, 1, 2, 7, 2]\n",
      "The list after removing 2 is [3, 4, 2, 5, 1, 2, 7, 2]. Notice that only the first occurence of 2 is removed from the list\n",
      "The list after removing 2 a second time is [3, 4, 5, 1, 2, 7, 2]\n"
     ]
    }
   ],
   "source": [
    "#Code to remove elements from a list\n",
    "mylist1 = [9,3,2,4,2,5,1,2,7,2]\n",
    "print(f\"The original list is {mylist1}\")\n",
    "\n",
    "mylist1.remove(9)\n",
    "print(f\"The list after removing 9 is {mylist1}\")\n",
    "\n",
    "mylist1.remove(2)\n",
    "print(f\"The list after removing 2 is {mylist1}. Notice that only the first occurence of 2 is removed from the list\")\n",
    "\n",
    "mylist1.remove(2)\n",
    "print(f\"The list after removing 2 a second time is {mylist1}\")\n"
   ]
  },
  {
   "cell_type": "code",
   "execution_count": 8,
   "metadata": {},
   "outputs": [
    {
     "name": "stdout",
     "output_type": "stream",
     "text": [
      "The no. of 1's in the list is 4\n",
      "The value of count is 4\n",
      "The list is [2, 3]\n"
     ]
    }
   ],
   "source": [
    "#Code to remove all occurrences of 1 in the below list\n",
    "mylist = [1,2,3,1,1,1]\n",
    "print(f\"The no. of 1's in the list is {mylist.count(1)}\")\n",
    "i=1\n",
    "count=0\n",
    "\n",
    "while(i in mylist):\n",
    "    mylist.remove(i)\n",
    "    count +=1\n",
    "\n",
    "print(f\"The value of count is {count}\")\n",
    "print(f\"The list is {mylist}\")\n",
    " "
   ]
  },
  {
   "cell_type": "code",
   "execution_count": 9,
   "metadata": {},
   "outputs": [
    {
     "name": "stdout",
     "output_type": "stream",
     "text": [
      "The original list is [9, 3, 2, 4, 2, 5, 1, 2, 7, 2]\n",
      "The list after removing all occurrences of 2 is [9, 3, 4, 5, 1, 7]\n"
     ]
    }
   ],
   "source": [
    "#Code to remove all occurrences of 2 in the below list\n",
    "mylist1 = [9,3,2,4,2,5,1,2,7,2]\n",
    "print(f\"The original list is {mylist1}\")\n",
    "\n",
    "count = mylist1.count(2)\n",
    "\n",
    "for i in range(count):\n",
    "    mylist1.remove(2)\n",
    "\n",
    "print(f\"The list after removing all occurrences of 2 is {mylist1}\")"
   ]
  }
 ],
 "metadata": {
  "kernelspec": {
   "display_name": "Python 3",
   "language": "python",
   "name": "python3"
  },
  "language_info": {
   "codemirror_mode": {
    "name": "ipython",
    "version": 3
   },
   "file_extension": ".py",
   "mimetype": "text/x-python",
   "name": "python",
   "nbconvert_exporter": "python",
   "pygments_lexer": "ipython3",
   "version": "3.8.10"
  },
  "orig_nbformat": 4
 },
 "nbformat": 4,
 "nbformat_minor": 2
}
