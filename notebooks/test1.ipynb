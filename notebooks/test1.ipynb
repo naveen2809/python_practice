{
 "cells": [
  {
   "cell_type": "code",
   "execution_count": 1,
   "metadata": {},
   "outputs": [
    {
     "name": "stdout",
     "output_type": "stream",
     "text": [
      "Hello World!!!\n",
      " Good Morning!!!\n",
      "Hello World!!! Good Morning!!!\n"
     ]
    }
   ],
   "source": [
    "mystr1 = \"Hello World!!!\"\n",
    "mystr2 = \" Good Morning!!!\"\n",
    "print(mystr1)\n",
    "print(mystr2)\n",
    "print(mystr1+mystr2)"
   ]
  },
  {
   "cell_type": "code",
   "execution_count": 1,
   "metadata": {},
   "outputs": [
    {
     "name": "stdout",
     "output_type": "stream",
     "text": [
      "16\n"
     ]
    },
    {
     "data": {
      "text/plain": [
       "3"
      ]
     },
     "execution_count": 1,
     "metadata": {},
     "output_type": "execute_result"
    }
   ],
   "source": [
    "mystr1 = \"Hello World!!!\"\n",
    "mystr2 = \" Good Morning!!!\"\n",
    "\n",
    "print(len(mystr2))\n",
    "\n",
    "mystr1.upper().count('!')\n"
   ]
  },
  {
   "cell_type": "code",
   "execution_count": 3,
   "metadata": {},
   "outputs": [
    {
     "data": {
      "text/plain": [
       "[1, 2, 3, [4, 5, 6]]"
      ]
     },
     "execution_count": 3,
     "metadata": {},
     "output_type": "execute_result"
    }
   ],
   "source": [
    "mylist1 = [1,2,3]\n",
    "mylist2 = [4,5,6]\n",
    "mylist1.append(mylist2)\n",
    "mylist1"
   ]
  },
  {
   "cell_type": "code",
   "execution_count": 4,
   "metadata": {},
   "outputs": [
    {
     "data": {
      "text/plain": [
       "[1, 2, 3, 4, 5, 6]"
      ]
     },
     "execution_count": 4,
     "metadata": {},
     "output_type": "execute_result"
    }
   ],
   "source": [
    "mylist1 = [1,2,3]\n",
    "mylist2 = [4,5,6]\n",
    "mylist1.extend(mylist2)\n",
    "mylist1"
   ]
  },
  {
   "cell_type": "code",
   "execution_count": 7,
   "metadata": {},
   "outputs": [
    {
     "name": "stdout",
     "output_type": "stream",
     "text": [
      "[1, 2, 3]\n",
      "[4, 5, 6]\n",
      "[1, 2, 3, 4, 5, 6]\n"
     ]
    }
   ],
   "source": [
    "mylist1 = [1,2,3]\n",
    "mylist2 = [4,5,6]\n",
    "mylist3 = mylist1 + mylist2\n",
    "print(mylist1)\n",
    "print(mylist2)\n",
    "print(mylist3)\n"
   ]
  },
  {
   "cell_type": "code",
   "execution_count": 9,
   "metadata": {},
   "outputs": [
    {
     "name": "stdout",
     "output_type": "stream",
     "text": [
      "My List Before PoP: [1, 2, 3]\n",
      "The PoPed Value is 3\n",
      "My List After PoP: [1, 2]\n"
     ]
    }
   ],
   "source": [
    "mylist1 = [1,2,3]\n",
    "print(f\"My List Before PoP: {mylist1}\")\n",
    "myval = mylist1.pop()\n",
    "print(f\"The PoPed Value is {myval}\")\n",
    "print(f\"My List After PoP: {mylist1}\")"
   ]
  },
  {
   "cell_type": "code",
   "execution_count": 12,
   "metadata": {},
   "outputs": [
    {
     "name": "stdout",
     "output_type": "stream",
     "text": [
      "The original list is [9, 3, 2, 4, 2, 5, 1, 2, 7, 2]\n",
      "The sorted list is [1, 2, 2, 2, 2, 3, 4, 5, 7, 9]\n"
     ]
    }
   ],
   "source": [
    "mylist1 = [9,3,2,4,2,5,1,2,7,2]\n",
    "print(f\"The original list is {mylist1}\")\n",
    "\n",
    "mylist1.sort()                      #In place sorting\n",
    "print(f\"The sorted list is {mylist1}\")"
   ]
  },
  {
   "cell_type": "code",
   "execution_count": 13,
   "metadata": {},
   "outputs": [
    {
     "name": "stdout",
     "output_type": "stream",
     "text": [
      "The original list is [9, 3, 2, 4, 2, 5, 1, 2, 7, 2]\n",
      "The reverse list is [2, 7, 2, 1, 5, 2, 4, 2, 3, 9]\n"
     ]
    }
   ],
   "source": [
    "mylist1 = [9,3,2,4,2,5,1,2,7,2]\n",
    "print(f\"The original list is {mylist1}\")\n",
    "\n",
    "mylist1.reverse()                   #In place reversing\n",
    "print(f\"The reverse list is {mylist1}\")"
   ]
  },
  {
   "cell_type": "code",
   "execution_count": 17,
   "metadata": {},
   "outputs": [
    {
     "name": "stdout",
     "output_type": "stream",
     "text": [
      "The original list is [1, 3, 5]\n",
      "The list after inserting first element is [0, 1, 3, 5]\n",
      "The list after inserting second element is [0, 1, 2, 3, 5]\n",
      "The list after inserting third element is [0, 1, 2, 3, 4, 5]\n",
      "The list after inserting fourth element is [0, 1, 2, 3, 4, 6, 5]\n",
      "The list after inserting fifth element is [0, 1, 2, 3, 4, 6, 5, 7]\n"
     ]
    }
   ],
   "source": [
    "mylist1 = [1,3,5]\n",
    "print(f\"The original list is {mylist1}\")\n",
    "\n",
    "mylist1.insert(0,0)\n",
    "print(f\"The list after inserting first element is {mylist1}\")\n",
    "\n",
    "mylist1.insert(2,2)\n",
    "print(f\"The list after inserting second element is {mylist1}\")\n",
    "\n",
    "mylist1.insert(4,4)\n",
    "print(f\"The list after inserting third element is {mylist1}\")\n",
    "\n",
    "mylist1.insert(-1,6)\n",
    "print(f\"The list after inserting fourth element is {mylist1}\")\n",
    "\n",
    "mylist1.insert(7,7)\n",
    "print(f\"The list after inserting fifth element is {mylist1}\")"
   ]
  },
  {
   "cell_type": "code",
   "execution_count": 22,
   "metadata": {},
   "outputs": [
    {
     "name": "stdout",
     "output_type": "stream",
     "text": [
      "The original list is [9, 3, 2, 4, 2, 5, 1, 2, 7, 2]\n",
      "The list after removing 9 is [3, 2, 4, 2, 5, 1, 2, 7, 2]\n",
      "The list after removing 2 is [3, 4, 2, 5, 1, 2, 7, 2]. Notice that only the first occurence of 2 is removed from the list\n",
      "The list after removing 2 a second time is [3, 4, 5, 1, 2, 7, 2]\n"
     ]
    }
   ],
   "source": [
    "mylist1 = [9,3,2,4,2,5,1,2,7,2]\n",
    "print(f\"The original list is {mylist1}\")\n",
    "\n",
    "mylist1.remove(9)\n",
    "print(f\"The list after removing 9 is {mylist1}\")\n",
    "\n",
    "mylist1.remove(2)\n",
    "print(f\"The list after removing 2 is {mylist1}. Notice that only the first occurence of 2 is removed from the list\")\n",
    "\n",
    "mylist1.remove(2)\n",
    "print(f\"The list after removing 2 a second time is {mylist1}\")\n"
   ]
  },
  {
   "cell_type": "code",
   "execution_count": 60,
   "metadata": {},
   "outputs": [
    {
     "name": "stdout",
     "output_type": "stream",
     "text": [
      "The no. of 1's in the list is 4\n",
      "The value of count is 4\n",
      "The list is [2, 3]\n"
     ]
    }
   ],
   "source": [
    "mylist = [1,2,3,1,1,1]\n",
    "print(f\"The no. of 1's in the list is {mylist.count(1)}\")\n",
    "i=1\n",
    "count=0\n",
    "\n",
    "while(i in mylist):\n",
    "    mylist.remove(i)\n",
    "    count +=1\n",
    "\n",
    "print(f\"The value of count is {count}\")\n",
    "print(f\"The list is {mylist}\")\n",
    " "
   ]
  },
  {
   "cell_type": "code",
   "execution_count": 26,
   "metadata": {},
   "outputs": [
    {
     "name": "stdout",
     "output_type": "stream",
     "text": [
      "The original list is [9, 3, 2, 4, 2, 5, 1, 2, 7, 2]\n",
      "The list after removing all occurrences of 2 is [9, 3, 4, 5, 1, 7]\n"
     ]
    }
   ],
   "source": [
    "#Code to remove all occurrences of 2 in the below list\n",
    "mylist1 = [9,3,2,4,2,5,1,2,7,2]\n",
    "print(f\"The original list is {mylist1}\")\n",
    "\n",
    "count = mylist1.count(2)\n",
    "\n",
    "for i in range(count):\n",
    "    mylist1.remove(2)\n",
    "\n",
    "print(f\"The list after removing all occurrences of 2 is {mylist1}\")"
   ]
  },
  {
   "cell_type": "code",
   "execution_count": 70,
   "metadata": {},
   "outputs": [
    {
     "name": "stdout",
     "output_type": "stream",
     "text": [
      "lo world!!!\n",
      "el ol!!\n",
      "!!!dlrow olleh\n",
      "HELLO WORLD!!!\n",
      "hello world!!!\n",
      "Hello world!!!\n",
      "The length of mystr1 is 14\n",
      "hello world!!! good morning!!!\n"
     ]
    }
   ],
   "source": [
    "mystr1 = \"hello world!!!\"\n",
    "mystr2 = \" good morning!!!\"\n",
    "print(mystr1[3::1])\n",
    "print(mystr1[1::2])\n",
    "print(mystr1[::-1])\n",
    "print(mystr1.upper())\n",
    "print(mystr1.lower())\n",
    "print(mystr1.capitalize())\n",
    "print(f\"The length of mystr1 is {len(mystr1)}\")\n",
    "print(mystr1 + mystr2)"
   ]
  },
  {
   "cell_type": "code",
   "execution_count": 71,
   "metadata": {},
   "outputs": [
    {
     "ename": "TypeError",
     "evalue": "'str' object does not support item assignment",
     "output_type": "error",
     "traceback": [
      "\u001b[0;31m---------------------------------------------------------------------------\u001b[0m",
      "\u001b[0;31mTypeError\u001b[0m                                 Traceback (most recent call last)",
      "\u001b[1;32m/home/naveen/Code/python/test1.ipynb Cell 6\u001b[0m line \u001b[0;36m2\n\u001b[1;32m      <a href='vscode-notebook-cell:/home/naveen/Code/python/test1.ipynb#W6sZmlsZQ%3D%3D?line=0'>1</a>\u001b[0m mystr1 \u001b[39m=\u001b[39m \u001b[39m\"\u001b[39m\u001b[39mhello world!!!\u001b[39m\u001b[39m\"\u001b[39m\n\u001b[0;32m----> <a href='vscode-notebook-cell:/home/naveen/Code/python/test1.ipynb#W6sZmlsZQ%3D%3D?line=1'>2</a>\u001b[0m mystr1[\u001b[39m0\u001b[39;49m] \u001b[39m=\u001b[39m \u001b[39m'\u001b[39m\u001b[39mH\u001b[39m\u001b[39m'\u001b[39m\n",
      "\u001b[0;31mTypeError\u001b[0m: 'str' object does not support item assignment"
     ]
    }
   ],
   "source": []
  },
  {
   "cell_type": "code",
   "execution_count": 76,
   "metadata": {},
   "outputs": [
    {
     "data": {
      "text/plain": [
       "10"
      ]
     },
     "execution_count": 76,
     "metadata": {},
     "output_type": "execute_result"
    }
   ],
   "source": [
    "mystr1 = \"hello wor world!!!\"\n",
    "mystr1.find(\"worl\")"
   ]
  },
  {
   "cell_type": "code",
   "execution_count": 80,
   "metadata": {},
   "outputs": [
    {
     "data": {
      "text/plain": [
       "1"
      ]
     },
     "execution_count": 80,
     "metadata": {},
     "output_type": "execute_result"
    }
   ],
   "source": [
    "mystr1 = \"hello wor world!!!\"\n",
    "mystr1.count(\"ld\")"
   ]
  },
  {
   "cell_type": "code",
   "execution_count": 81,
   "metadata": {},
   "outputs": [
    {
     "data": {
      "text/plain": [
       "'Hello Wor World!!!'"
      ]
     },
     "execution_count": 81,
     "metadata": {},
     "output_type": "execute_result"
    }
   ],
   "source": [
    "mystr1 = \"hello wor world!!!\"\n",
    "mystr1.title()"
   ]
  }
 ],
 "metadata": {
  "kernelspec": {
   "display_name": "Python 3",
   "language": "python",
   "name": "python3"
  },
  "language_info": {
   "codemirror_mode": {
    "name": "ipython",
    "version": 3
   },
   "file_extension": ".py",
   "mimetype": "text/x-python",
   "name": "python",
   "nbconvert_exporter": "python",
   "pygments_lexer": "ipython3",
   "version": "3.8.10"
  },
  "orig_nbformat": 4
 },
 "nbformat": 4,
 "nbformat_minor": 2
}
