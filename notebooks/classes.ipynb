{
 "cells": [
  {
   "cell_type": "code",
   "execution_count": 8,
   "metadata": {},
   "outputs": [],
   "source": [
    "class Dog():\n",
    "\n",
    "    species = \"Dog\"      #Class-Object Attribute\n",
    "\n",
    "    def __init__(self,breed,name):\n",
    "        self.breed = breed\n",
    "        self.name = name\n",
    "    \n",
    "    def bark(self):\n",
    "        print(f\"Woof! My name is {self.name}. I am a {self.species} and my breed is {self.breed}\")\n"
   ]
  },
  {
   "cell_type": "code",
   "execution_count": 10,
   "metadata": {},
   "outputs": [
    {
     "name": "stdout",
     "output_type": "stream",
     "text": [
      "Woof! My name is Tommy. I am a Dog and my breed is Alsatian\n"
     ]
    }
   ],
   "source": [
    "my_dog = Dog('Alsatian','Tommy')\n",
    "\n",
    "my_dog.bark()"
   ]
  },
  {
   "cell_type": "code",
   "execution_count": 13,
   "metadata": {},
   "outputs": [
    {
     "name": "stdout",
     "output_type": "stream",
     "text": [
      "<class '__main__.Dog'>\n",
      "<class 'method'>\n",
      "<class '__main__.Cat'>\n",
      "<class 'method'>\n"
     ]
    }
   ],
   "source": [
    "class Dog():\n",
    "\n",
    "    def __init__(self,name):\n",
    "        self.name = name\n",
    "    \n",
    "    def speak(self):\n",
    "        return self.name + \" says Woof!\"\n",
    "    \n",
    "\n",
    "class Cat():\n",
    "\n",
    "    def __init__(self,name):\n",
    "        self.name = name\n",
    "\n",
    "    def speak(self):\n",
    "        return self.name + \" says Meow!\"\n",
    "    \n",
    "\n",
    "niko = Dog(\"niko\")\n",
    "felix = Cat(\"felix\")\n",
    "\n",
    "for pet in [niko,felix]:\n",
    "    print(type(pet))\n",
    "    print(type(pet.speak))"
   ]
  },
  {
   "cell_type": "code",
   "execution_count": 2,
   "metadata": {},
   "outputs": [
    {
     "name": "stdout",
     "output_type": "stream",
     "text": [
      "The length of line 1 is 9.433981132056603\n",
      "The slope of line 1 is 1.6\n"
     ]
    }
   ],
   "source": [
    "import math\n",
    "\n",
    "class Line():\n",
    "\n",
    "    def __init__(self,coor1,coor2):\n",
    "        self.coor1 = coor1\n",
    "        self.coor2 = coor2\n",
    "\n",
    "    def length(self):\n",
    "        return (math.sqrt((self.coor2[1]-self.coor1[1])**2 + (self.coor2[0]-self.coor1[0])**2))\n",
    "    \n",
    "    def slope(self):\n",
    "        return ((self.coor2[1]-self.coor1[1])/((self.coor2[0]-self.coor1[0])))\n",
    "\n",
    "\n",
    "line1 = Line((3,2),(8,10))\n",
    "\n",
    "print(f\"The length of line 1 is {line1.length()}\")\n",
    "print(f\"The slope of line 1 is {line1.slope()}\")"
   ]
  },
  {
   "cell_type": "code",
   "execution_count": 7,
   "metadata": {},
   "outputs": [
    {
     "name": "stdout",
     "output_type": "stream",
     "text": [
      "The volume of Cylinder 1 is 56.548667764616276\n",
      "The surface aread of Cylinder 1 is 94.24777960769379\n"
     ]
    }
   ],
   "source": [
    "import math\n",
    "\n",
    "class Cylinder():\n",
    "\n",
    "    def __init__(self,radius,height):\n",
    "        self.radius = radius\n",
    "        self.height = height\n",
    "\n",
    "    def volume(self):\n",
    "        return (math.pi*self.radius**2*self.height)\n",
    "    \n",
    "    def surface_area(self):\n",
    "        return (2*math.pi*self.radius*self.height+2*math.pi*self.radius**2)\n",
    "    \n",
    "cylinder1 = Cylinder(3,2)\n",
    "\n",
    "print(f\"The volume of Cylinder 1 is {cylinder1.volume()}\")\n",
    "print(f\"The surface aread of Cylinder 1 is {cylinder1.surface_area()}\")"
   ]
  },
  {
   "cell_type": "code",
   "execution_count": 21,
   "metadata": {},
   "outputs": [
    {
     "name": "stdout",
     "output_type": "stream",
     "text": [
      "Account created successfully\n",
      "Deposit is successful\n",
      "Withdrawl is successful\n",
      "Current balance: 15000\n",
      "Account Details: \n",
      "Account owner: Naveen\n",
      "Account balance: 15000\n"
     ]
    }
   ],
   "source": [
    "class Account():\n",
    "\n",
    "    def __init__(self,name,balance):\n",
    "        self.name = name\n",
    "        self.balance = balance\n",
    "        print(\"Account created successfully\")\n",
    "\n",
    "    def deposit(self,amount):\n",
    "        self.balance += amount\n",
    "        print(\"Deposit is successful\")\n",
    "\n",
    "    def withdraw(self,amount):\n",
    "        if amount > self.balance:\n",
    "            print(\"Withdrawl cannout be processed as withdrawl amount is greater than account balance\")\n",
    "        else:\n",
    "            self.balance -= amount\n",
    "            print(\"Withdrawl is successful\")\n",
    "\n",
    "    def current_balance(self):\n",
    "        print(f\"Current balance: {self.balance}\")\n",
    "\n",
    "    def __str__(self):\n",
    "        return \"Account Details: \\n\" + \"Account owner: \" + str(self.name) + \"\\n\" + \"Account balance: \" + str(self.balance)       \n",
    "\n",
    "account1 = Account(\"Naveen\",10000)\n",
    "account1.deposit(10000)\n",
    "account1.withdraw(5000)\n",
    "account1.current_balance()\n",
    "print(account1)\n"
   ]
  },
  {
   "cell_type": "code",
   "execution_count": 23,
   "metadata": {},
   "outputs": [
    {
     "name": "stdout",
     "output_type": "stream",
     "text": [
      "Incorrect input in list\n",
      "4\n",
      "Incorrect input in list\n"
     ]
    }
   ],
   "source": [
    "for i in ['a',2,'c']:\n",
    "    try:\n",
    "        print(i**2)\n",
    "    except:\n",
    "        print(\"Incorrect input in list\")\n",
    "        continue"
   ]
  },
  {
   "cell_type": "code",
   "execution_count": 27,
   "metadata": {},
   "outputs": [
    {
     "name": "stdout",
     "output_type": "stream",
     "text": [
      "No exception occured. Value of z is 2.5\n"
     ]
    }
   ],
   "source": [
    "x = 5\n",
    "y = 2\n",
    "\n",
    "e = False\n",
    "\n",
    "try:\n",
    "    z = x/y\n",
    "except:\n",
    "    e = True\n",
    "finally:\n",
    "    if e == True:\n",
    "        print(\"An exception has occured\")\n",
    "    else:\n",
    "        print(f\"No exception occured. Value of z is {z}\")"
   ]
  },
  {
   "cell_type": "code",
   "execution_count": 29,
   "metadata": {},
   "outputs": [
    {
     "name": "stdout",
     "output_type": "stream",
     "text": [
      "An exception has occured\n"
     ]
    }
   ],
   "source": [
    "x = 5\n",
    "y = 0\n",
    "\n",
    "try:\n",
    "    z = x/y\n",
    "except:\n",
    "    print(\"An exception has occured\")\n",
    "else:\n",
    "    print(f\"No exception occured. Value of z is {z}\")"
   ]
  },
  {
   "cell_type": "code",
   "execution_count": null,
   "metadata": {},
   "outputs": [],
   "source": [
    "\n",
    "while True:\n",
    "    try:\n",
    "        value = int(input(\"Please enter an interger: \"))\n",
    "    except:\n",
    "        print(\"Incorrect input\")\n",
    "        continue\n",
    "    else:\n",
    "        print(f\"The square of the integer is {value**2}\")\n",
    "        break\n",
    "\n",
    "\n",
    "\n"
   ]
  }
 ],
 "metadata": {
  "kernelspec": {
   "display_name": "Python 3",
   "language": "python",
   "name": "python3"
  },
  "language_info": {
   "codemirror_mode": {
    "name": "ipython",
    "version": 3
   },
   "file_extension": ".py",
   "mimetype": "text/x-python",
   "name": "python",
   "nbconvert_exporter": "python",
   "pygments_lexer": "ipython3",
   "version": "3.8.10"
  },
  "orig_nbformat": 4
 },
 "nbformat": 4,
 "nbformat_minor": 2
}
