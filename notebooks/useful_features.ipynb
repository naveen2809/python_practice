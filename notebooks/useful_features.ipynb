{
 "cells": [
  {
   "cell_type": "code",
   "execution_count": null,
   "metadata": {},
   "outputs": [
    {
     "name": "stdout",
     "output_type": "stream",
     "text": [
      "0\n",
      "1\n",
      "2\n",
      "3\n",
      "4\n",
      "5\n",
      "6\n",
      "7\n",
      "8\n",
      "9\n"
     ]
    }
   ],
   "source": [
    "#Range Funtion\n",
    "#Range is an iterator\n",
    "\n",
    "for i in range(10):\n",
    "    print(i)\n"
   ]
  },
  {
   "cell_type": "code",
   "execution_count": null,
   "metadata": {},
   "outputs": [
    {
     "name": "stdout",
     "output_type": "stream",
     "text": [
      "2\n",
      "4\n",
      "6\n",
      "8\n",
      "10\n"
     ]
    }
   ],
   "source": [
    "#Range Funtion Example\n",
    "#Range is an iterator \n",
    "\n",
    "for i in range(2,11,2):\n",
    "    print(i)\n"
   ]
  },
  {
   "cell_type": "code",
   "execution_count": null,
   "metadata": {},
   "outputs": [
    {
     "name": "stdout",
     "output_type": "stream",
     "text": [
      "The item at index 0 is 1\n",
      "The item at index 1 is 2\n",
      "The item at index 2 is 3\n",
      "The item at index 3 is 4\n",
      "The item at index 4 is 5\n"
     ]
    }
   ],
   "source": [
    "#Enumerator Function\n",
    "\n",
    "mylist = [1,2,3,4,5]\n",
    "\n",
    "for index,value in enumerate(mylist):\n",
    "    print(f\"The item at index {index} is {value}\")"
   ]
  },
  {
   "cell_type": "code",
   "execution_count": null,
   "metadata": {},
   "outputs": [
    {
     "name": "stdout",
     "output_type": "stream",
     "text": [
      "(1, 'a')\n",
      "(2, 'b')\n",
      "(3, 'c')\n",
      "(4, 'd')\n",
      "(5, 'e')\n",
      "First list item: 1 Second list item: a\n",
      "First list item: 2 Second list item: b\n",
      "First list item: 3 Second list item: c\n",
      "First list item: 4 Second list item: d\n",
      "First list item: 5 Second list item: e\n"
     ]
    }
   ],
   "source": [
    "#Zip function\n",
    "\n",
    "mylist1= [1,2,3,4,5]\n",
    "mylist2 = ['a','b','c','d','e']\n",
    "\n",
    "for item in zip(mylist1,mylist2):\n",
    "    print(item)\n",
    "\n",
    "for first,second in zip(mylist1,mylist2):\n",
    "    print(f\"First list item: {first} Second list item: {second}\")\n",
    "\n",
    "\n"
   ]
  },
  {
   "cell_type": "code",
   "execution_count": null,
   "metadata": {},
   "outputs": [
    {
     "name": "stdout",
     "output_type": "stream",
     "text": [
      "2\n",
      "4\n"
     ]
    }
   ],
   "source": [
    "# \"in\" operator\n",
    "\n",
    "mylist = [2,4,6,8,10]\n",
    "\n",
    "for i in range(5):\n",
    "    if i in mylist:\n",
    "        print(i)\n"
   ]
  },
  {
   "cell_type": "code",
   "execution_count": null,
   "metadata": {},
   "outputs": [
    {
     "name": "stdout",
     "output_type": "stream",
     "text": [
      "1\n",
      "2\n",
      "3\n",
      "4\n",
      "5\n"
     ]
    }
   ],
   "source": [
    "# \"break\"\n",
    "\n",
    "for i in range(1,11,1):\n",
    "    if(i==6):\n",
    "        break\n",
    "\n",
    "    print(i)\n"
   ]
  },
  {
   "cell_type": "code",
   "execution_count": null,
   "metadata": {},
   "outputs": [
    {
     "name": "stdout",
     "output_type": "stream",
     "text": [
      "1\n",
      "2\n",
      "3\n",
      "4\n",
      "5\n",
      "7\n",
      "8\n",
      "9\n",
      "10\n"
     ]
    }
   ],
   "source": [
    "# \"continue\"\n",
    "\n",
    "for i in range(1,11,1):\n",
    "    if(i==6):\n",
    "        continue\n",
    "\n",
    "    print(i)"
   ]
  },
  {
   "cell_type": "code",
   "execution_count": null,
   "metadata": {},
   "outputs": [],
   "source": [
    "# \"pass\"\n",
    "\n",
    "for i in range(1,11,1):\n",
    "    pass"
   ]
  },
  {
   "cell_type": "code",
   "execution_count": null,
   "metadata": {},
   "outputs": [
    {
     "name": "stdout",
     "output_type": "stream",
     "text": [
      "a is equal to 2\n",
      "a is not equal to b\n",
      "a is not equal to b\n",
      "a is less than b\n",
      "a is less than or equal to b\n"
     ]
    }
   ],
   "source": [
    "# Comparison Operators (\"==\",\"!=\",\">\",\"<\",\">=\",\"<=\")\n",
    "\n",
    "a = 2\n",
    "b = 3\n",
    "\n",
    "if(a == 2):\n",
    "    print(\"a is equal to 2\")\n",
    "\n",
    "if(a == b):\n",
    "    print(\"a is equal to b\")\n",
    "else:\n",
    "    print(\"a is not equal to b\")\n",
    "\n",
    "if(a != b):\n",
    "    print(\"a is not equal to b\")\n",
    "else:\n",
    "    print(\"a is equal to b\")\n",
    "\n",
    "if(a > b):\n",
    "    print(\"a is greater than b\")\n",
    "\n",
    "if(a < b):\n",
    "    print(\"a is less than b\")\n",
    "\n",
    "if(a >= b):\n",
    "    print(\"a is greater than or equal to b\")\n",
    "\n",
    "if(a <= b):\n",
    "    print(\"a is less than or equal to b\")\n"
   ]
  },
  {
   "cell_type": "code",
   "execution_count": null,
   "metadata": {},
   "outputs": [
    {
     "name": "stdout",
     "output_type": "stream",
     "text": [
      "b is greater than a or c\n",
      "b is not greater than 5\n"
     ]
    }
   ],
   "source": [
    "# Logical operators (\"and\", \"or\", \"not\")\n",
    "\n",
    "a = 2\n",
    "b = 3\n",
    "c = 4\n",
    "\n",
    "if((b > a) and (b > c)):\n",
    "    print(\"b is greater than a and c\")\n",
    "\n",
    "if((b > a) or (b > c)):\n",
    "    print(\"b is greater than a or c\")\n",
    "\n",
    "if(not(b > 5)):\n",
    "    print(\"b is not greater than 5\")\n",
    "\n"
   ]
  },
  {
   "cell_type": "code",
   "execution_count": null,
   "metadata": {},
   "outputs": [
    {
     "name": "stdout",
     "output_type": "stream",
     "text": [
      "a is False\n"
     ]
    }
   ],
   "source": [
    "# boolean operators: True and False\n",
    "\n",
    "a = False\n",
    "\n",
    "if a:\n",
    "    print(\"a is True\")\n",
    "else:\n",
    "    print(\"a is False\")\n"
   ]
  },
  {
   "cell_type": "code",
   "execution_count": null,
   "metadata": {},
   "outputs": [
    {
     "name": "stdout",
     "output_type": "stream",
     "text": [
      "a is not equal to 1 or 2\n"
     ]
    }
   ],
   "source": [
    "# if-elif-else\n",
    "\n",
    "a = 4\n",
    "\n",
    "if (a == 1):\n",
    "    print(\"a is equal to 1\")\n",
    "elif (a == 2):\n",
    "    print(\"a is equal to 2\")\n",
    "else:\n",
    "    print(\"a is not equal to 1 or 2\")\n",
    "\n",
    "\n",
    "\n"
   ]
  },
  {
   "cell_type": "code",
   "execution_count": null,
   "metadata": {},
   "outputs": [
    {
     "name": "stdout",
     "output_type": "stream",
     "text": [
      "Line 1\n",
      "Line 2\n",
      "Line 3\n",
      "\n"
     ]
    }
   ],
   "source": [
    "# File I/O\n",
    "\n",
    "f = open(\"Hello.txt\",\"r\")\n",
    "\n",
    "filestring = f.read()\n",
    "\n",
    "print(filestring)"
   ]
  },
  {
   "cell_type": "code",
   "execution_count": null,
   "metadata": {},
   "outputs": [
    {
     "name": "stdout",
     "output_type": "stream",
     "text": [
      "['Line 1\\n', 'Line 2\\n', 'Line 3\\n']\n",
      "Line 1\n",
      "\n",
      "Line 2\n",
      "\n",
      "Line 3\n",
      "\n",
      "Line 1\n",
      "Line 2\n",
      "Line 3\n"
     ]
    }
   ],
   "source": [
    "# File I/O\n",
    "\n",
    "f = open(\"Hello.txt\",\"r\")\n",
    "\n",
    "lines = f.readlines()\n",
    "\n",
    "print(lines)\n",
    "\n",
    "for line in lines:\n",
    "    print(line)\n",
    "\n",
    "for line in lines:\n",
    "    print(line.strip())"
   ]
  },
  {
   "cell_type": "code",
   "execution_count": null,
   "metadata": {},
   "outputs": [
    {
     "name": "stdout",
     "output_type": "stream",
     "text": [
      "Line 1\n",
      "Line 2\n",
      "Line 3\n",
      "\n",
      "[]\n"
     ]
    }
   ],
   "source": [
    "# File I/O\n",
    "\n",
    "f = open(\"Hello.txt\",\"r\")\n",
    "\n",
    "filestring = f.read()\n",
    "\n",
    "print(filestring)\n",
    "\n",
    "lines = f.readlines()\n",
    "\n",
    "print(lines)\n",
    "\n",
    "for line in lines:\n",
    "    print(line)"
   ]
  },
  {
   "cell_type": "code",
   "execution_count": null,
   "metadata": {},
   "outputs": [
    {
     "name": "stdout",
     "output_type": "stream",
     "text": [
      "start\n",
      "s\n",
      "sentence\n"
     ]
    }
   ],
   "source": [
    "#Exercise\n",
    "#Print only the words that start with \"s\" in this sentence\n",
    "\n",
    "st = \"Print only the words that start with s in this sentence\"\n",
    "\n",
    "for word in st.split():\n",
    "    if ((word[0]=='s') or (word[0]=='S')):\n",
    "        print(word)\n",
    "\n",
    "\n",
    "\n"
   ]
  },
  {
   "cell_type": "code",
   "execution_count": null,
   "metadata": {},
   "outputs": [
    {
     "name": "stdout",
     "output_type": "stream",
     "text": [
      "word\n",
      "in\n",
      "this\n",
      "sentence\n",
      "that\n",
      "an\n",
      "even\n",
      "number\n",
      "of\n"
     ]
    }
   ],
   "source": [
    "#Exercise\n",
    "#Print every word in this sentence that has an even number of letters\n",
    "\n",
    "st = \"Print every word in this sentence that has an even number of letters\"\n",
    "\n",
    "for word in st.split():\n",
    "    if ((len(word))%2 == 0):\n",
    "        print(word)\n",
    "\n",
    "\n"
   ]
  },
  {
   "cell_type": "code",
   "execution_count": null,
   "metadata": {},
   "outputs": [
    {
     "name": "stdout",
     "output_type": "stream",
     "text": [
      "1\n",
      "2\n",
      "Fizz\n",
      "4\n",
      "Buzz\n",
      "Fizz\n",
      "7\n",
      "8\n",
      "Fizz\n",
      "Buzz\n",
      "11\n",
      "Fizz\n",
      "13\n",
      "14\n",
      "FizzBuzz\n",
      "16\n",
      "17\n",
      "Fizz\n",
      "19\n",
      "Buzz\n",
      "Fizz\n",
      "22\n",
      "23\n",
      "Fizz\n",
      "Buzz\n",
      "26\n",
      "Fizz\n",
      "28\n",
      "29\n",
      "FizzBuzz\n",
      "31\n",
      "32\n",
      "Fizz\n",
      "34\n",
      "Buzz\n",
      "Fizz\n",
      "37\n",
      "38\n",
      "Fizz\n",
      "Buzz\n",
      "41\n",
      "Fizz\n",
      "43\n",
      "44\n",
      "FizzBuzz\n",
      "46\n",
      "47\n",
      "Fizz\n",
      "49\n",
      "Buzz\n",
      "Fizz\n",
      "52\n",
      "53\n",
      "Fizz\n",
      "Buzz\n",
      "56\n",
      "Fizz\n",
      "58\n",
      "59\n",
      "FizzBuzz\n",
      "61\n",
      "62\n",
      "Fizz\n",
      "64\n",
      "Buzz\n",
      "Fizz\n",
      "67\n",
      "68\n",
      "Fizz\n",
      "Buzz\n",
      "71\n",
      "Fizz\n",
      "73\n",
      "74\n",
      "FizzBuzz\n",
      "76\n",
      "77\n",
      "Fizz\n",
      "79\n",
      "Buzz\n",
      "Fizz\n",
      "82\n",
      "83\n",
      "Fizz\n",
      "Buzz\n",
      "86\n",
      "Fizz\n",
      "88\n",
      "89\n",
      "FizzBuzz\n",
      "91\n",
      "92\n",
      "Fizz\n",
      "94\n",
      "Buzz\n",
      "Fizz\n",
      "97\n",
      "98\n",
      "Fizz\n",
      "Buzz\n"
     ]
    }
   ],
   "source": [
    "#Exercise\n",
    "\n",
    "\n",
    "for i in range(1,101):\n",
    "    if((i%3==0) and (i%5==0)):\n",
    "        print(\"FizzBuzz\")\n",
    "    elif (i%3==0):\n",
    "        print(\"Fizz\")\n",
    "    elif (i%5==0):\n",
    "        print(\"Buzz\")\n",
    "    else:\n",
    "        print(i)\n",
    "\n"
   ]
  },
  {
   "cell_type": "code",
   "execution_count": null,
   "metadata": {},
   "outputs": [
    {
     "name": "stdout",
     "output_type": "stream",
     "text": [
      "[0, 3, 6, 9, 12, 15, 18, 21, 24, 27, 30, 33, 36, 39, 42, 45, 48]\n"
     ]
    }
   ],
   "source": [
    "#List comprehension\n",
    "\n",
    "mylist = [x for x in range (51) if x%3 == 0]\n",
    "\n",
    "print(mylist)\n",
    "\n"
   ]
  },
  {
   "cell_type": "code",
   "execution_count": null,
   "metadata": {},
   "outputs": [
    {
     "name": "stdout",
     "output_type": "stream",
     "text": [
      "['C', 'a', 'l', 'o', 't', 'f', 'l', 'o', 'e', 'w', 'i', 't', 's']\n"
     ]
    }
   ],
   "source": [
    "# Using List Comprehensions, 'Create a list of the first letters of every word in this string'\n",
    "\n",
    "s = \"Create a list of the first letters of every word in this string\"\n",
    "\n",
    "mylist = [word[0] for word in s.split()]\n",
    "\n",
    "print(mylist)\n",
    "\n"
   ]
  },
  {
   "cell_type": "code",
   "execution_count": null,
   "metadata": {},
   "outputs": [
    {
     "name": "stdout",
     "output_type": "stream",
     "text": [
      "The type of 'a' is <class 'str'>\n",
      "The number you entered is: 15\n",
      "The square of the number your entered is: 225\n"
     ]
    }
   ],
   "source": [
    "#Python input statement\n",
    "#The input function returns a string\n",
    "\n",
    "a = input('Enter a number: ')\n",
    "print(f\"The type of 'a' is {type(a)}\")\n",
    "\n",
    "print(f\"The number you entered is: {int(a)}\")\n",
    "print(f\"The square of the number your entered is: {int(a)**2}\")"
   ]
  },
  {
   "cell_type": "code",
   "execution_count": null,
   "metadata": {},
   "outputs": [
    {
     "name": "stdout",
     "output_type": "stream",
     "text": [
      "The original list is [1, 2, 3, 4, 5, 6, 7, 8, 9, 10]\n",
      "The shuffled list is [5, 7, 2, 4, 3, 9, 6, 1, 8, 10]\n"
     ]
    }
   ],
   "source": [
    "#Shuffle function\n",
    "#Shuffles the list in place\n",
    "\n",
    "from random import shuffle\n",
    "\n",
    "mylist = [x for x in range(1,11)]\n",
    "print(f\"The original list is {mylist}\")\n",
    "\n",
    "#Shuffling the list\n",
    "shuffle(mylist)\n",
    "print(f\"The shuffled list is {mylist}\")"
   ]
  },
  {
   "cell_type": "code",
   "execution_count": 2,
   "metadata": {},
   "outputs": [
    {
     "name": "stdout",
     "output_type": "stream",
     "text": [
      "The random value is 3\n",
      "*\n",
      "**\n",
      "***\n"
     ]
    }
   ],
   "source": [
    "#Random function\n",
    "from random import randint\n",
    "\n",
    "\n",
    "def print_stars(num):\n",
    "    i=1\n",
    "    while i <= num:\n",
    "        j=1\n",
    "        while j <= i:\n",
    "            print(\"*\",end=\"\")\n",
    "            j += 1\n",
    "        print()\n",
    "        i += 1\n",
    "\n",
    "rand_val = randint(1,10)\n",
    "print(f\"The random value is {rand_val}\")\n",
    "print_stars(rand_val)\n",
    "\n"
   ]
  }
 ],
 "metadata": {
  "kernelspec": {
   "display_name": "Python 3",
   "language": "python",
   "name": "python3"
  },
  "language_info": {
   "codemirror_mode": {
    "name": "ipython",
    "version": 3
   },
   "file_extension": ".py",
   "mimetype": "text/x-python",
   "name": "python",
   "nbconvert_exporter": "python",
   "pygments_lexer": "ipython3",
   "version": "3.8.10"
  },
  "orig_nbformat": 4
 },
 "nbformat": 4,
 "nbformat_minor": 2
}
